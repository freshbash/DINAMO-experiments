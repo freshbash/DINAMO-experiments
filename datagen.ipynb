{
 "cells": [
  {
   "cell_type": "code",
   "execution_count": null,
   "id": "c9456fb1",
   "metadata": {},
   "outputs": [],
   "source": [
    "from tqdm.notebook import tqdm\n",
    "import numpy as np"
   ]
  },
  {
   "cell_type": "code",
   "execution_count": 1,
   "id": "e890f826",
   "metadata": {},
   "outputs": [],
   "source": [
    "EPSILON = 1e-10"
   ]
  },
  {
   "cell_type": "markdown",
   "id": "afd8c681",
   "metadata": {},
   "source": [
    "### Synthetic Data generation routine"
   ]
  },
  {
   "cell_type": "code",
   "execution_count": null,
   "id": "b1770063",
   "metadata": {},
   "outputs": [],
   "source": [
    "def generate_synthetic_dataset(rng, n_runs=5000, n_anomalous_runs=500, n_bins=100,\n",
    "        mu_base=0, sigma_base=1.0, A_drift=0.5, min_stats=2000, max_stats=20000,\n",
    "        mu_slow_change_period=500, mu_rapid_changes_shift_lims=(0.5, 1.5),\n",
    "        sigma_rapid_changes_shift_lims=(0.1, 0.4), mu_anomaly_shift_lims=(0.25, 0.75),\n",
    "        sigma_anomaly_shift_lims=(0.05, 0.2), rapid_change_p=0.005, binom_p=0.4,\n",
    "        anomaly_p=0.9, fraction_dead_bins=0.1):\n",
    "    \n",
    "    current_persistent_mu_shift_from_rapid_change = 0.0\n",
    "    current_persistent_sigma_shift_from_rapid_change = 0.0\n",
    "    list_of_histograms = list()\n",
    "    list_of_labels = list()\n",
    "\n",
    "    anomalous_indices = set(rng.choice(np.arange(1, n_runs + 1), size=n_anomalous_runs, replace=False))\n",
    "\n",
    "    for i in range(1, n_runs + 1):\n",
    "        if i in anomalous_indices:\n",
    "            yi = 1\n",
    "        else:\n",
    "            yi = 0\n",
    "\n",
    "        drift_mu = A_drift * np.sin(i / mu_slow_change_period * np.pi)\n",
    "        mu_run = mu_base + drift_mu\n",
    "        sigma_run = sigma_base\n",
    "        rand_for_abrupt_change = rng.random(1).item()\n",
    "        if rand_for_abrupt_change < rapid_change_p:\n",
    "            delta_mu_new_rapid = rng.uniform(low=mu_rapid_changes_shift_lims[0], high=mu_rapid_changes_shift_lims[1])\n",
    "            delta_sigma_new_rapid = rng.uniform(low=sigma_rapid_changes_shift_lims[0], high=sigma_rapid_changes_shift_lims[1])\n",
    "            current_persistent_mu_shift_from_rapid_change = delta_mu_new_rapid\n",
    "            current_persistent_sigma_shift_from_rapid_change = delta_sigma_new_rapid\n",
    "\n",
    "        mu_for_gaussian = mu_run + current_persistent_mu_shift_from_rapid_change\n",
    "        sigma_for_gaussian = max(EPSILON, sigma_run + current_persistent_sigma_shift_from_rapid_change)\n",
    "\n",
    "        dead_bin_indices = None\n",
    "        \n",
    "        if yi == 1:\n",
    "            rand_num = rng.random(1).item()\n",
    "            if rand_num < anomaly_p:\n",
    "                delta_mu_anomaly = rng.uniform(low=mu_anomaly_shift_lims[0], high=mu_anomaly_shift_lims[1])\n",
    "                delta_sigma_anomaly = rng.uniform(low=sigma_anomaly_shift_lims[0], high=sigma_anomaly_shift_lims[1])\n",
    "                sign_mu = rng.choice([-1, 1], size=1)\n",
    "                sign_sigma = rng.choice([-1, 1], size=1)\n",
    "                mu_for_gaussian = mu_for_gaussian + (sign_mu * delta_mu_anomaly)\n",
    "                sigma_for_gaussian = max(EPSILON, sigma_for_gaussian + (sign_sigma * delta_sigma_anomaly))\n",
    "                dead_bin_indices = rng.choice(np.arange(0, n_bins), size=int(fraction_dead_bins*n_bins), replace=False)\n",
    "\n",
    "        Ixi = rng.integers(low=min_stats, high=max_stats, size=1)\n",
    "\n",
    "        events = rng.normal(loc=mu_for_gaussian, scale=sigma_for_gaussian, size=Ixi)\n",
    "\n",
    "        xi, xi_edges = np.histogram(events, bins=n_bins)\n",
    "\n",
    "        for j in range(n_bins // 2, n_bins):\n",
    "            n = xi[j]\n",
    "            p = binom_p\n",
    "            binomial_sample = rng.binomial(n, p)\n",
    "            chosen_sign = rng.choice([-1, 1])\n",
    "            if isinstance(chosen_sign, np.ndarray):\n",
    "                raise Exception(\"Incorrect type for chosen_sign\")\n",
    "            xi[j] = max(0, xi[j] + chosen_sign * binomial_sample)\n",
    "\n",
    "        if dead_bin_indices is not None:\n",
    "            for j in dead_bin_indices:\n",
    "                xi[j] = 0\n",
    "\n",
    "        list_of_histograms.append(xi)\n",
    "        list_of_labels.append(yi)\n",
    "    \n",
    "    return list_of_histograms, list_of_labels"
   ]
  },
  {
   "cell_type": "code",
   "execution_count": null,
   "id": "1ba1c7b8",
   "metadata": {},
   "outputs": [],
   "source": [
    "def generate_datasets(num_datasets):\n",
    "    num_datasets = 1000\n",
    "    datasets = []\n",
    "    for seed in tqdm(range(num_datasets)):\n",
    "        rng = np.random.default_rng(seed)\n",
    "        x, y = generate_synthetic_dataset(rng=rng)\n",
    "        datasets.append((seed, x, y)) # (seed#, histograms, labels)\n",
    "    return datasets"
   ]
  },
  {
   "cell_type": "code",
   "execution_count": null,
   "id": "bdc61633",
   "metadata": {},
   "outputs": [],
   "source": [
    "datasets = generate_datasets(1000)\n",
    "seeds = np.array([d[0] for d in datasets], dtype=np.int32)\n",
    "histograms = np.array([d[1] for d in datasets], dtype=np.float32)\n",
    "labels = np.array([d[2] for d in datasets], dtype=np.int64)"
   ]
  },
  {
   "cell_type": "code",
   "execution_count": null,
   "id": "1c8eb3ec",
   "metadata": {},
   "outputs": [],
   "source": [
    "np.savez_compressed(\"datasets.npz\", seeds=seeds, histograms=histograms, labels=labels)"
   ]
  }
 ],
 "metadata": {
  "kernelspec": {
   "display_name": ".venv",
   "language": "python",
   "name": "python3"
  },
  "language_info": {
   "codemirror_mode": {
    "name": "ipython",
    "version": 3
   },
   "file_extension": ".py",
   "mimetype": "text/x-python",
   "name": "python",
   "nbconvert_exporter": "python",
   "pygments_lexer": "ipython3",
   "version": "3.12.4"
  }
 },
 "nbformat": 4,
 "nbformat_minor": 5
}

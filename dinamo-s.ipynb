{
 "cells": [
  {
   "cell_type": "code",
   "execution_count": 1,
   "id": "b9073cbf",
   "metadata": {},
   "outputs": [],
   "source": [
    "# Add import statements here\n"
   ]
  },
  {
   "cell_type": "markdown",
   "id": "eb1cc85c",
   "metadata": {},
   "source": [
    "### The DINAMO-S Algorithm"
   ]
  },
  {
   "cell_type": "code",
   "execution_count": null,
   "id": "ac48f680",
   "metadata": {},
   "outputs": [],
   "source": [
    "def reference_init():\n",
    "    pass\n",
    "\n",
    "def ewma_init(alpha, mu0, sigma_mu0p):\n",
    "    pass\n",
    "\n",
    "def dinamo_s(x, y, alpha, eps):\n",
    "    mu0, sigma_mu0p, i_mu0 = reference_init()\n",
    "    W0, S_mu0, S_sigma_mu_0 = ewma_init(alpha=alpha, mu0=mu0, sigma_mu0p=sigma_mu0p)\n",
    "\n",
    "    for i in range(len(x)):\n",
    "        pass"
   ]
  }
 ],
 "metadata": {
  "kernelspec": {
   "display_name": ".venv",
   "language": "python",
   "name": "python3"
  },
  "language_info": {
   "codemirror_mode": {
    "name": "ipython",
    "version": 3
   },
   "file_extension": ".py",
   "mimetype": "text/x-python",
   "name": "python",
   "nbconvert_exporter": "python",
   "pygments_lexer": "ipython3",
   "version": "3.12.4"
  }
 },
 "nbformat": 4,
 "nbformat_minor": 5
}

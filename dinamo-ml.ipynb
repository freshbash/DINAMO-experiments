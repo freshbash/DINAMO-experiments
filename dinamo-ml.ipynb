{
 "cells": [
  {
   "cell_type": "code",
   "execution_count": 11,
   "id": "3afc8164",
   "metadata": {},
   "outputs": [],
   "source": [
    "import numpy as np\n",
    "from torch.nn import TransformerEncoderLayer, TransformerEncoder\n",
    "from torch.optim import AdamW"
   ]
  },
  {
   "cell_type": "markdown",
   "id": "4ffafb69",
   "metadata": {},
   "source": [
    "Helper functions"
   ]
  },
  {
   "cell_type": "code",
   "execution_count": 14,
   "id": "281ebb07",
   "metadata": {},
   "outputs": [],
   "source": [
    "def buildContext(D, nb, x, i, M):\n",
    "    if (len(x[-M:]) < M):\n",
    "        diff = M - len(x[-M:])\n",
    "        for i in range(diff):\n",
    "            D.append(np.ones(nb))\n",
    "    D.extend(x[-M:])"
   ]
  },
  {
   "cell_type": "markdown",
   "id": "ac77a98d",
   "metadata": {},
   "source": [
    "Inputs"
   ]
  },
  {
   "cell_type": "code",
   "execution_count": 13,
   "id": "06b29193",
   "metadata": {},
   "outputs": [],
   "source": [
    "x = [] # Past histograms\n",
    "y = [] # Ground truth\n",
    "\n",
    "M = 5 # Buffer size\n",
    "K = 3 # Batch size"
   ]
  },
  {
   "cell_type": "markdown",
   "id": "f568e124",
   "metadata": {},
   "source": [
    "Initialize:"
   ]
  },
  {
   "cell_type": "code",
   "execution_count": 12,
   "id": "7d434cea",
   "metadata": {},
   "outputs": [
    {
     "name": "stderr",
     "output_type": "stream",
     "text": [
      "e:\\research-paper-experiments\\.venv\\Lib\\site-packages\\torch\\nn\\modules\\transformer.py:382: UserWarning: enable_nested_tensor is True, but self.use_nested_tensor is False because encoder_layer.self_attn.batch_first was not True(use batch_first for better inference performance)\n",
      "  warnings.warn(\n"
     ]
    }
   ],
   "source": [
    "D = []\n",
    "\n",
    "enc_layer = TransformerEncoderLayer(\n",
    "    d_model=100,\n",
    "    nhead=10,\n",
    "    dim_feedforward=100,\n",
    "    dropout=0.15\n",
    ")\n",
    "enc = TransformerEncoder(\n",
    "    enc_layer,\n",
    "    num_layers=3\n",
    ")\n",
    "\n",
    "optim = AdamW(enc.parameters(), lr=5e-4, weight_decay=1e-4)\n",
    "early_stopping_patience = 5"
   ]
  },
  {
   "cell_type": "code",
   "execution_count": null,
   "id": "126df07e",
   "metadata": {},
   "outputs": [],
   "source": [
    "for i in range(len(x)):\n",
    "    nb = len(x[i])\n",
    "\n",
    "    # Normalize new histogram\n",
    "    x_t = x[i] / np.sum(x[i])\n",
    "    \n",
    "    # Perform inference to obtain reference prediction\n",
    "    context = buildContext(D, i, M)\n",
    "\n",
    "    mu_hat_i, sigma_hat_i = enc(context)\n",
    "\n",
    "    # Compute chi2 here...\n",
    "\n",
    "    if y[i] == 0:\n",
    "        D.append((x_t, i))\n",
    "        # Training step\n",
    "        batch = D[-K:]\n",
    "        nll_batch = 0\n",
    "        optim.zero_grad()\n",
    "        for (x_k, i_k) in batch:\n",
    "            context = buildContext(D, i_k, M)\n",
    "            mu_hat, sigma_hat = enc(context)\n",
    "            nll_k = computeNLL(x_k, mu_hat, sigma_hat)\n",
    "            nll_batch += nll_k\n",
    "        nll_batch = nll_batch / len(batch)\n",
    "        optim.step()\n",
    "        # Check early stopping"
   ]
  }
 ],
 "metadata": {
  "kernelspec": {
   "display_name": ".venv",
   "language": "python",
   "name": "python3"
  },
  "language_info": {
   "codemirror_mode": {
    "name": "ipython",
    "version": 3
   },
   "file_extension": ".py",
   "mimetype": "text/x-python",
   "name": "python",
   "nbconvert_exporter": "python",
   "pygments_lexer": "ipython3",
   "version": "3.12.4"
  }
 },
 "nbformat": 4,
 "nbformat_minor": 5
}

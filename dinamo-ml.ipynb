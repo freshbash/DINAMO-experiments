{
 "cells": [
  {
   "cell_type": "code",
   "execution_count": null,
   "id": "3afc8164",
   "metadata": {},
   "outputs": [],
   "source": [
    "import numpy as np\n",
    "import torch\n",
    "from torch.nn import TransformerEncoderLayer, TransformerEncoder\n",
    "from torch.optim import AdamW"
   ]
  },
  {
   "cell_type": "markdown",
   "id": "4ffafb69",
   "metadata": {},
   "source": [
    "Helper functions"
   ]
  },
  {
   "cell_type": "code",
   "execution_count": 7,
   "id": "281ebb07",
   "metadata": {},
   "outputs": [],
   "source": [
    "def buildContext(D, i, M):\n",
    "    context = list()\n",
    "    if len(D) < M:\n",
    "        diff = M - len(D)\n",
    "        for i in range(diff):\n",
    "            context.append(np.zeros(100))\n",
    "        context.extend(D)\n",
    "    else:\n",
    "        samples_before_i = D[:i]\n",
    "        context = samples_before_i[(len(samples_before_i) - M):]\n",
    "        if len(context) != M:\n",
    "            raise Exception(\"buildContextError: Incorrect context length.\")\n",
    "    return context\n",
    "\n",
    "def computeNLL(x, mu, sigma):\n",
    "    nb = len(x)\n",
    "    loss = 0\n",
    "    for i in range(nb):\n",
    "        term1 = ((x[i] - mu[i]) / sigma[i]) ** 2\n",
    "        term2 = torch.log(sigma[i])\n",
    "        bin_nll = term1 + term2\n",
    "        loss += bin_nll\n",
    "    \n",
    "    loss = loss / (2 * nb)\n",
    "\n",
    "    return loss\n",
    "\n",
    "def chi2_stat(x, sigma_x, u, sigma_u):\n",
    "        nb = len(x)\n",
    "        stat = (1 / nb) * torch.sum((x - u) ** 2 / (sigma_x**2 + sigma_u**2))\n",
    "        return stat\n",
    "\n",
    "def pull_delta(x, sigma_x, u, sigma_u):\n",
    "    stat = (x - u) / torch.sqrt(sigma_x**2 + sigma_u**2)\n",
    "    return stat\n",
    "\n",
    "def poisson_uncertainty(x, I):\n",
    "    return torch.sqrt((x / I) - (x**2 / I))"
   ]
  },
  {
   "cell_type": "markdown",
   "id": "ac77a98d",
   "metadata": {},
   "source": [
    "Inputs"
   ]
  },
  {
   "cell_type": "code",
   "execution_count": 13,
   "id": "06b29193",
   "metadata": {},
   "outputs": [],
   "source": [
    "x = [] # Past histograms\n",
    "y = [] # Ground truth\n",
    "\n",
    "M = 5 # Buffer size\n",
    "K = 3 # Batch size"
   ]
  },
  {
   "cell_type": "markdown",
   "id": "f568e124",
   "metadata": {},
   "source": [
    "Initialize:"
   ]
  },
  {
   "cell_type": "code",
   "execution_count": null,
   "id": "7d434cea",
   "metadata": {},
   "outputs": [
    {
     "name": "stderr",
     "output_type": "stream",
     "text": [
      "e:\\research-paper-experiments\\.venv\\Lib\\site-packages\\torch\\nn\\modules\\transformer.py:382: UserWarning: enable_nested_tensor is True, but self.use_nested_tensor is False because encoder_layer.self_attn.batch_first was not True(use batch_first for better inference performance)\n",
      "  warnings.warn(\n"
     ]
    }
   ],
   "source": [
    "D = []\n",
    "\n",
    "enc_layer = TransformerEncoderLayer(\n",
    "    d_model=100,\n",
    "    nhead=10,\n",
    "    dim_feedforward=100,\n",
    "    dropout=0.15\n",
    ")\n",
    "enc = TransformerEncoder(\n",
    "    enc_layer,\n",
    "    num_layers=3\n",
    ")\n",
    "\n",
    "optim = AdamW(enc.parameters(), lr=5e-4, weight_decay=1e-4)\n",
    "early_stopping_patience = 5"
   ]
  },
  {
   "cell_type": "code",
   "execution_count": null,
   "id": "126df07e",
   "metadata": {},
   "outputs": [],
   "source": [
    "mu_hist = list()\n",
    "sigma_hist = list()\n",
    "chi2_hist = list()\n",
    "pulld_hist = list()\n",
    "early_stopping_counter = 0\n",
    "past_loss = None\n",
    "best_model_state = None\n",
    "\n",
    "for i in range(len(x)):\n",
    "    nb = len(x[i])\n",
    "\n",
    "    # Normalize new histogram\n",
    "    x_t = x[i] / np.sum(x[i])\n",
    "    \n",
    "    # Perform inference to obtain reference prediction\n",
    "    context = buildContext(D, i, M)\n",
    "\n",
    "    mu_hat_i, sigma_hat_i = enc(context)\n",
    "\n",
    "    mu_hist.append(mu_hat_i)\n",
    "    sigma_hist.append(sigma_hat_i)\n",
    "\n",
    "    # Compute chi2 and pull delta\n",
    "    chi2 = chi2_stat(x_t, poisson_uncertainty(x_t, torch.sum(x[i])), mu_hat_i, sigma_hat_i)\n",
    "    pull = pull_delta(x_t, poisson_uncertainty(x_t, torch.sum(x[i])), mu_hat_i, sigma_hat_i)\n",
    "    chi2_hist.append(chi2)\n",
    "    pulld_hist.append(pull)\n",
    "\n",
    "    if y[i] == 0:\n",
    "        D.append(x_t)\n",
    "\n",
    "        # Training step\n",
    "        batch = D.copy() if len(D) <= K else D[(len(D) - K):]\n",
    "        nll_batch = 0\n",
    "        optim.zero_grad()\n",
    "        for (x_k, i_k) in batch:\n",
    "            context = buildContext(D, i_k, M)\n",
    "            mu_hat, sigma_hat = enc(context)\n",
    "            nll_k = computeNLL(x_k, mu_hat, sigma_hat)\n",
    "            nll_batch += nll_k\n",
    "        nll_batch = nll_batch / len(batch)\n",
    "\n",
    "        # Backprop\n",
    "        nll_batch.backward()\n",
    "        optim.step()\n",
    "\n",
    "        # Check early stopping\n",
    "        if past_loss is None:\n",
    "            past_loss = nll_batch\n",
    "            best_model_state = enc.state_dict()\n",
    "        elif past_loss <= nll_batch:\n",
    "            early_stopping_counter += 1\n",
    "            if early_stopping_counter >= early_stopping_patience:\n",
    "                break\n",
    "        elif past_loss > nll_batch:\n",
    "            past_loss = nll_batch\n",
    "            best_params = enc.state_dict()\n",
    "            early_stopping_counter = 0\n",
    "\n",
    "enc.load_state_dict(best_model_state)"
   ]
  }
 ],
 "metadata": {
  "kernelspec": {
   "display_name": ".venv",
   "language": "python",
   "name": "python3"
  },
  "language_info": {
   "codemirror_mode": {
    "name": "ipython",
    "version": 3
   },
   "file_extension": ".py",
   "mimetype": "text/x-python",
   "name": "python",
   "nbconvert_exporter": "python",
   "pygments_lexer": "ipython3",
   "version": "3.12.4"
  }
 },
 "nbformat": 4,
 "nbformat_minor": 5
}
